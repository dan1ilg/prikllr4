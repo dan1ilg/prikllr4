{
 "cells": [
  {
   "cell_type": "code",
   "execution_count": 39,
   "id": "92d821ff-a68c-4981-89bd-6ef83d9d0691",
   "metadata": {},
   "outputs": [],
   "source": [
    "import random\n",
    "import pandas as pd\n",
    "import matplotlib.pyplot as plt"
   ]
  },
  {
   "cell_type": "code",
   "execution_count": 2,
   "id": "37e8f0a3-b92e-4aae-baec-8e52627cb4ae",
   "metadata": {},
   "outputs": [
    {
     "name": "stdout",
     "output_type": "stream",
     "text": [
      "[9, 9, 5, 8, 4, 8, 7, 6, 3, 3]\n"
     ]
    }
   ],
   "source": [
    "rand_list=[]\n",
    "n=10\n",
    "for i in range(n):\n",
    "    rand_list.append(random.randint(3,9))\n",
    "print(rand_list)"
   ]
  },
  {
   "cell_type": "code",
   "execution_count": 3,
   "id": "82418a74-0754-4d41-960c-07f8f32f24b7",
   "metadata": {},
   "outputs": [
    {
     "name": "stdout",
     "output_type": "stream",
     "text": [
      "Random number list is : [43, 1, 42, 49, 35, 3, 18]\n"
     ]
    }
   ],
   "source": [
    "# Python3 code to demonstrate \n",
    "# to generate random number list\n",
    "# using random.sample()\n",
    "import random\n",
    "\n",
    "# using random.sample()\n",
    "# to generate random number list\n",
    "res = random.sample(range(1, 50), 7)\n",
    "\n",
    "# printing result\n",
    "print (\"Random number list is : \" + str(res))\n"
   ]
  },
  {
   "cell_type": "code",
   "execution_count": 4,
   "id": "85b9254e-4bdc-4299-a943-036dab3ae6dd",
   "metadata": {},
   "outputs": [
    {
     "name": "stdout",
     "output_type": "stream",
     "text": [
      "Random number list is : [39, 23, 23, 41, 39, 35, 1]\n"
     ]
    }
   ],
   "source": [
    "# Python3 code to demonstrate \n",
    "# to generate random number list\n",
    "# using list comprehension + randrange()\n",
    "import random\n",
    "\n",
    "# using list comprehension + randrange() \n",
    "# to generate random number list\n",
    "res = [random.randrange(1, 50, 1) for i in range(7)]\n",
    "\n",
    "# printing result\n",
    "print (\"Random number list is : \" + str(res))\n"
   ]
  },
  {
   "cell_type": "code",
   "execution_count": 5,
   "id": "736e8b09-f512-4c57-a417-2ec209609171",
   "metadata": {},
   "outputs": [
    {
     "name": "stdout",
     "output_type": "stream",
     "text": [
      "[5, 27, 14, 22, 41, 17, 4, 4, 12, 35]\n"
     ]
    }
   ],
   "source": [
    "# Method 3: For Loop Random Int List [0, 51]\n",
    "import random\n",
    "lis = []\n",
    "for _ in range(10):\n",
    "\tlis.append(random.randint(0, 51))\n",
    "print(lis)\n"
   ]
  },
  {
   "cell_type": "code",
   "execution_count": 6,
   "id": "7d81eb81-814d-4713-bc7d-10bea845ddc9",
   "metadata": {},
   "outputs": [
    {
     "name": "stdout",
     "output_type": "stream",
     "text": [
      "[7, 3, 3, 4, 5, 3, 3, 6, 6, 7]\n",
      "[0, 1, 1, 1, 0]\n"
     ]
    }
   ],
   "source": [
    "# importing numpy module\n",
    "import numpy as np\n",
    "\n",
    "# print the list of 10 integers from 3 to 7 \n",
    "print(list(np.random.randint(low = 3,high=8,size=10)))\n",
    "\n",
    "# print the list of 5 integers from 0 to 2\n",
    "# if high parameter is not passed during \n",
    "# function call then results are from [0, low)\n",
    "print(list(np.random.randint(low = 3,size=5)))\n"
   ]
  },
  {
   "cell_type": "code",
   "execution_count": 7,
   "id": "c55a6fe4-e83f-4b53-98af-bd17b8cca47a",
   "metadata": {},
   "outputs": [
    {
     "name": "stdout",
     "output_type": "stream",
     "text": [
      "[0.14932569 0.48674926 0.32011177 0.68690075]\n",
      "[[0.94190891 0.07776707 0.82580759 0.41589714]\n",
      " [0.65292241 0.99570258 0.1157277  0.98794055]\n",
      " [0.22004229 0.92500006 0.52189898 0.50570905]\n",
      " [0.44757115 0.20525578 0.99650733 0.36580188]]\n"
     ]
    }
   ],
   "source": [
    "import numpy as np\n",
    "\n",
    "# generates list of 4 float values\n",
    "print(np.random.random_sample(size = 4))\n",
    "\n",
    "# generates 2d list of 4*4\n",
    "print(np.random.random_sample(size = (4,4)))\n"
   ]
  },
  {
   "cell_type": "code",
   "execution_count": 32,
   "id": "d8bd4be5-1119-4c78-814d-066e5791978e",
   "metadata": {},
   "outputs": [
    {
     "name": "stdout",
     "output_type": "stream",
     "text": [
      "[3, 1, 3, 3, 6, 6, 4, 6, 6, 5, 5, 3, 4, 2, 6, 6, 5, 4, 2, 3, 6, 3, 2, 1, 2, 5, 4, 1, 2, 6, 6, 6, 2, 4, 1, 1, 5, 1, 4, 6, 5, 5, 2, 6, 1, 5, 2, 3, 4, 2, 2, 3, 1, 5, 6, 1, 6, 5, 1, 1, 6, 4, 4, 5, 6, 2, 4, 3, 6, 4, 2, 4, 5, 5, 4, 2, 3, 4, 2, 2, 1, 4, 6, 6, 6, 3, 3, 2, 3, 5, 2, 2, 2, 3, 5, 2, 3, 5, 1, 5]\n"
     ]
    }
   ],
   "source": [
    "import random\n",
    "def kubik(n: int) -> list:\n",
    "    data = []\n",
    "    while len(data) < n:\n",
    "        data.append(random.randint(1, 6))\n",
    "    return data\n",
    "print(kubik(100))"
   ]
  },
  {
   "cell_type": "code",
   "execution_count": 43,
   "id": "eca33f86-eb88-429a-a732-35ab0be9fa5f",
   "metadata": {},
   "outputs": [],
   "source": [
    "def kubik(n: int) -> list:\n",
    "    data = []\n",
    "    while len(data) < n:\n",
    "        data.append(random.randint(1, 6))\n",
    "    return data\n",
    "\n",
    "def count_rate(kub_data: list):\n",
    "\n",
    "    kub_rate = {}\n",
    "    for i in kub_data:\n",
    "        if i in kub_rate:\n",
    "            continue\n",
    "        else:\n",
    "            kub_rate[i] = kub_data.count(i)\n",
    "    for i in range(1, 7):\n",
    "        if i not in kub_rate:\n",
    "            kub_rate[i] = 0\n",
    "    return kub_rate\n",
    "\n",
    "def sort_rate(counted_rate: dict):\n",
    "    sorted_rate = {}\n",
    "    for key in sorted(counted_rate.keys()):\n",
    "        sorted_rate[key] = counted_rate[key]\n",
    "    return sorted_rate\n",
    "\n",
    "def crate_dataframe(sorted_date: dict):\n",
    "    df = pd.DataFrame(sorted_date, index=[0])\n",
    "    df = df.T\n",
    "    df = df.rename(columns={0: 'Частота'})\n",
    "    df.insert(0, 'Количество выпаданий', range(1, 1 + len(df)))\n",
    "    return df\n",
    "def probability_solving(dataframe: pd.DataFrame):\n",
    "    sum_rate = dataframe['Частота'].sum()\n",
    "    probability = []\n",
    "    for i in dataframe['Частота']:\n",
    "        probability.append(i / sum_rate)\n",
    "    dataframe['Вероятность'] = probability\n",
    "    return dataframe\n",
    "data = probability_solving(crate_dataframe(sort_rate(count_rate(kubik(100)))))"
   ]
  },
  {
   "cell_type": "code",
   "execution_count": 44,
   "id": "29e44d57-1b3a-4a22-a29f-5815fad01b42",
   "metadata": {},
   "outputs": [
    {
     "data": {
      "text/plain": [
       "<Axes: >"
      ]
     },
     "execution_count": 44,
     "metadata": {},
     "output_type": "execute_result"
    },
    {
     "data": {
      "image/png": "[encoded data removed]",
      "text/plain": [
       "<Figure size 640x480 with 1 Axes>"
      ]
     },
     "metadata": {},
     "output_type": "display_data"
    }
   ],
   "source": [
    "data['Вероятность'].plot(kind='bar', legend=True)"
   ]
  },
  {
   "cell_type": "code",
   "execution_count": 45,
   "id": "c6ed3ed6-d397-4b51-ba20-0df830d942d8",
   "metadata": {},
   "outputs": [],
   "source": [
    "def kubik(n: int) -> list:\n",
    "    data = []\n",
    "    while len(data) < n:\n",
    "        data.append(random.randint(1, 6))\n",
    "    return data"
   ]
  },
  {
   "cell_type": "code",
   "execution_count": 46,
   "id": "252011d0-a1ac-4297-af38-c201311e2a28",
   "metadata": {},
   "outputs": [],
   "source": [
    "def count_rate(kub_data: list):\n",
    "\n",
    "    kub_rate = {}\n",
    "    for i in kub_data:\n",
    "        if i in kub_rate:\n",
    "            continue\n",
    "        else:\n",
    "            kub_rate[i] = kub_data.count(i)\n",
    "    for i in range(1, 7):\n",
    "        if i not in kub_rate:\n",
    "            kub_rate[i] = 0\n",
    "    return kub_rate"
   ]
  },
  {
   "cell_type": "code",
   "execution_count": 47,
   "id": "2e7f2292-abda-490f-81bb-9c1228c94dea",
   "metadata": {},
   "outputs": [],
   "source": [
    "def sort_rate(counted_rate: dict):\n",
    "    sorted_rate = {}\n",
    "    for key in sorted(counted_rate.keys()):\n",
    "        sorted_rate[key] = counted_rate[key]\n",
    "    return sorted_rate"
   ]
  },
  {
   "cell_type": "code",
   "execution_count": 48,
   "id": "9d842c02-b587-4030-a24d-fcd472a64d57",
   "metadata": {},
   "outputs": [],
   "source": [
    "def crate_dataframe(sorted_date: dict):\n",
    "    df = pd.DataFrame(sorted_date, index=[0])\n",
    "    df = df.T\n",
    "    df = df.rename(columns={0: 'Частота'})\n",
    "    df.insert(0, 'Количество выпаданий', range(1, 1 + len(df)))\n",
    "    return df"
   ]
  },
  {
   "cell_type": "code",
   "execution_count": 55,
   "id": "01fa9ba3-9bc9-4ddf-acc9-c73f8249c202",
   "metadata": {},
   "outputs": [
    {
     "name": "stdout",
     "output_type": "stream",
     "text": [
      "   Количество выпаданий  Частота  Вероятность\n",
      "1                     1      170        0.170\n",
      "2                     2      167        0.167\n",
      "3                     3      162        0.162\n",
      "4                     4      156        0.156\n",
      "5                     5      186        0.186\n",
      "6                     6      159        0.159\n"
     ]
    }
   ],
   "source": [
    "def probability_solving(dataframe: pd.DataFrame):\n",
    "    sum_rate = dataframe['Частота'].sum()\n",
    "    probability = []\n",
    "    for i in dataframe['Частота']:\n",
    "        probability.append(i / sum_rate)\n",
    "    dataframe['Вероятность'] = probability\n",
    "    return dataframe\n",
    "print(probability_solving(crate_dataframe(sort_rate(count_rate(kubik(1000))))))\n",
    "data2 = probability_solving(crate_dataframe(sort_rate(count_rate(kubik(1000)))))"
   ]
  },
  {
   "cell_type": "code",
   "execution_count": 56,
   "id": "4c139ae1-c9f9-4251-b439-5c5b2f37f9f3",
   "metadata": {},
   "outputs": [
    {
     "data": {
      "text/plain": [
       "<Axes: >"
      ]
     },
     "execution_count": 56,
     "metadata": {},
     "output_type": "execute_result"
    },
    {
     "data": {
      "image/png": "[encoded data removed]",
      "text/plain": [
       "<Figure size 640x480 with 1 Axes>"
      ]
     },
     "metadata": {},
     "output_type": "display_data"
    }
   ],
   "source": [
    "data2['Вероятность'].plot(kind='bar', legend=True, color='purple')"
   ]
  },
  {
   "cell_type": "code",
   "execution_count": 57,
   "id": "4d8b099c-fa8d-46a3-b56c-1fc045cb1e0f",
   "metadata": {},
   "outputs": [],
   "source": [
    "def kubik(n: int) -> list:\n",
    "    data = []\n",
    "    while len(data) < n:\n",
    "        data.append(random.randint(1, 6))\n",
    "    return data"
   ]
  },
  {
   "cell_type": "code",
   "execution_count": 58,
   "id": "15a99e9e-b717-4175-b6f0-a5b7a654ce4e",
   "metadata": {},
   "outputs": [],
   "source": [
    "def count_rate(kub_data: list):\n",
    "\n",
    "    kub_rate = {}\n",
    "    for i in kub_data:\n",
    "        if i in kub_rate:\n",
    "            continue\n",
    "        else:\n",
    "            kub_rate[i] = kub_data.count(i)\n",
    "    for i in range(1, 7):\n",
    "        if i not in kub_rate:\n",
    "            kub_rate[i] = 0\n",
    "    return kub_rate"
   ]
  },
  {
   "cell_type": "code",
   "execution_count": 59,
   "id": "baf8ecd5-d1bc-4a14-9fed-c8127ba944f4",
   "metadata": {},
   "outputs": [],
   "source": [
    "def sort_rate(counted_rate: dict):\n",
    "    sorted_rate = {}\n",
    "    for key in sorted(counted_rate.keys()):\n",
    "        sorted_rate[key] = counted_rate[key]\n",
    "    return sorted_rate"
   ]
  },
  {
   "cell_type": "code",
   "execution_count": 60,
   "id": "83cb7304-f875-4125-9bd9-800099a8e4a1",
   "metadata": {},
   "outputs": [],
   "source": [
    "def crate_dataframe(sorted_date: dict):\n",
    "    df = pd.DataFrame(sorted_date, index=[0])\n",
    "    df = df.T\n",
    "    df = df.rename(columns={0: 'Частота'})\n",
    "    df.insert(0, 'Количество выпаданий', range(1, 1 + len(df)))\n",
    "    return df"
   ]
  },
  {
   "cell_type": "code",
   "execution_count": 61,
   "id": "ebac8643-4cbc-470d-844a-09a45325a4d6",
   "metadata": {},
   "outputs": [
    {
     "name": "stdout",
     "output_type": "stream",
     "text": [
      "   Количество выпаданий  Частота  Вероятность\n",
      "1                     1     1647       0.1647\n",
      "2                     2     1660       0.1660\n",
      "3                     3     1702       0.1702\n",
      "4                     4     1622       0.1622\n",
      "5                     5     1674       0.1674\n",
      "6                     6     1695       0.1695\n"
     ]
    }
   ],
   "source": [
    "def probability_solving(dataframe: pd.DataFrame):\n",
    "    sum_rate = dataframe['Частота'].sum()\n",
    "    probability = []\n",
    "    for i in dataframe['Частота']:\n",
    "        probability.append(i / sum_rate)\n",
    "    dataframe['Вероятность'] = probability\n",
    "    return dataframe\n",
    "print(probability_solving(crate_dataframe(sort_rate(count_rate(kubik(10000))))))\n",
    "data3 = probability_solving(crate_dataframe(sort_rate(count_rate(kubik(10000)))))"
   ]
  },
  {
   "cell_type": "code",
   "execution_count": 65,
   "id": "2b0cbbed-1ee4-4102-80bc-5ced09763244",
   "metadata": {},
   "outputs": [
    {
     "data": {
      "text/plain": [
       "<Axes: >"
      ]
     },
     "execution_count": 65,
     "metadata": {},
     "output_type": "execute_result"
    },
    {
     "data": {
      "image/png": "[encoded data removed]",
      "text/plain": [
       "<Figure size 640x480 with 1 Axes>"
      ]
     },
     "metadata": {},
     "output_type": "display_data"
    }
   ],
   "source": [
    "data3['Вероятность'].plot(kind='bar', legend=True, color='gray')"
   ]
  },
  {
   "cell_type": "code",
   "execution_count": 66,
   "id": "47976638-6c0f-40eb-acd6-1f50d9634796",
   "metadata": {},
   "outputs": [],
   "source": [
    "def kubik(n: int) -> list:\n",
    "    data = []\n",
    "    while len(data) < n:\n",
    "        data.append(random.randint(1, 6))\n",
    "    return data"
   ]
  },
  {
   "cell_type": "code",
   "execution_count": 67,
   "id": "334adde9-f061-4bfe-8ef1-e85ae63ced32",
   "metadata": {},
   "outputs": [],
   "source": [
    "def count_rate(kub_data: list):\n",
    "\n",
    "    kub_rate = {}\n",
    "    for i in kub_data:\n",
    "        if i in kub_rate:\n",
    "            continue\n",
    "        else:\n",
    "            kub_rate[i] = kub_data.count(i)\n",
    "    for i in range(1, 7):\n",
    "        if i not in kub_rate:\n",
    "            kub_rate[i] = 0\n",
    "    return kub_rate"
   ]
  },
  {
   "cell_type": "code",
   "execution_count": 68,
   "id": "68b5cfbb-14b3-49b4-966a-0fe9abd4afef",
   "metadata": {},
   "outputs": [],
   "source": [
    "def sort_rate(counted_rate: dict):\n",
    "    sorted_rate = {}\n",
    "    for key in sorted(counted_rate.keys()):\n",
    "        sorted_rate[key] = counted_rate[key]\n",
    "    return sorted_rate"
   ]
  },
  {
   "cell_type": "code",
   "execution_count": 69,
   "id": "06ac33d5-11cf-4e11-882c-3238a7e3e05a",
   "metadata": {},
   "outputs": [],
   "source": [
    "def crate_dataframe(sorted_date: dict):\n",
    "    df = pd.DataFrame(sorted_date, index=[0])\n",
    "    df = df.T\n",
    "    df = df.rename(columns={0: 'Частота'})\n",
    "    df.insert(0, 'Количество выпаданий', range(1, 1 + len(df)))\n",
    "    return df"
   ]
  },
  {
   "cell_type": "code",
   "execution_count": 70,
   "id": "bf9dc7c8-2c97-4bc7-9a94-e43cb8771101",
   "metadata": {},
   "outputs": [
    {
     "name": "stdout",
     "output_type": "stream",
     "text": [
      "   Количество выпаданий  Частота  Вероятность\n",
      "1                     1   166689     0.166689\n",
      "2                     2   167016     0.167016\n",
      "3                     3   166630     0.166630\n",
      "4                     4   166564     0.166564\n",
      "5                     5   166338     0.166338\n",
      "6                     6   166763     0.166763\n"
     ]
    }
   ],
   "source": [
    "def probability_solving(dataframe: pd.DataFrame):\n",
    "    sum_rate = dataframe['Частота'].sum()\n",
    "    probability = []\n",
    "    for i in dataframe['Частота']:\n",
    "        probability.append(i / sum_rate)\n",
    "    dataframe['Вероятность'] = probability\n",
    "    return dataframe\n",
    "print(probability_solving(crate_dataframe(sort_rate(count_rate(kubik(1000000))))))\n",
    "data4 = probability_solving(crate_dataframe(sort_rate(count_rate(kubik(1000000)))))"
   ]
  },
  {
   "cell_type": "code",
   "execution_count": 73,
   "id": "588e2915-efc7-4fbc-8b83-1ec5fa162475",
   "metadata": {},
   "outputs": [
    {
     "data": {
      "text/plain": [
       "<Axes: >"
      ]
     },
     "execution_count": 73,
     "metadata": {},
     "output_type": "execute_result"
    },
    {
     "data": {
      "image/png": "[encoded data removed]",
      "text/plain": [
       "<Figure size 640x480 with 1 Axes>"
      ]
     },
     "metadata": {},
     "output_type": "display_data"
    }
   ],
   "source": [
    "data4['Вероятность'].plot(kind='bar', legend=True, color='pink')"
   ]
  },
  {
   "cell_type": "code",
   "execution_count": null,
   "id": "c2693903-bc38-4f0e-aa44-c8a018a095ea",
   "metadata": {},
   "outputs": [],
   "source": []
  }
 ],
 "metadata": {
  "kernelspec": {
   "display_name": "Python 3 (ipykernel)",
   "language": "python",
   "name": "python3"
  },
  "language_info": {
   "codemirror_mode": {
    "name": "ipython",
    "version": 3
   },
   "file_extension": ".py",
   "mimetype": "text/x-python",
   "name": "python",
   "nbconvert_exporter": "python",
   "pygments_lexer": "ipython3",
   "version": "3.11.5"
  }
 },
 "nbformat": 4,
 "nbformat_minor": 5
}
